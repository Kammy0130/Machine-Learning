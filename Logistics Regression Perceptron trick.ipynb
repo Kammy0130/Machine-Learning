{
 "cells": [
  {
   "cell_type": "code",
   "execution_count": 241,
   "id": "ad65c970",
   "metadata": {},
   "outputs": [],
   "source": [
    "from sklearn.datasets import make_classification\n",
    "import numpy as np\n",
    "import pandas as pd\n",
    "import seaborn as sns\n",
    "import matplotlib.pyplot as plt"
   ]
  },
  {
   "cell_type": "code",
   "execution_count": 242,
   "id": "7693cba6",
   "metadata": {},
   "outputs": [],
   "source": [
    "x,y = make_classification(n_samples = 1000,n_features=2, n_informative=1,n_redundant=0,\n",
    "                           n_classes=2, n_clusters_per_class=1, random_state=41,hypercube=False,class_sep=30)"
   ]
  },
  {
   "cell_type": "code",
   "execution_count": 243,
   "id": "193ae33b",
   "metadata": {},
   "outputs": [
    {
     "data": {
      "text/plain": [
       "array([[-0.20535429, -6.26044883],\n",
       "       [-0.31575309, -4.27356396],\n",
       "       [-0.25640262, -5.87431445],\n",
       "       ...,\n",
       "       [-0.42153598,  0.78985803],\n",
       "       [ 0.37325639,  1.09864574],\n",
       "       [-0.06012331, -4.70068359]])"
      ]
     },
     "execution_count": 243,
     "metadata": {},
     "output_type": "execute_result"
    }
   ],
   "source": [
    "x"
   ]
  },
  {
   "cell_type": "code",
   "execution_count": 244,
   "id": "286ac421",
   "metadata": {},
   "outputs": [],
   "source": [
    "df = pd.DataFrame(x)"
   ]
  },
  {
   "cell_type": "code",
   "execution_count": 245,
   "id": "e8c9e2a8",
   "metadata": {},
   "outputs": [],
   "source": [
    "df['label'] = y"
   ]
  },
  {
   "cell_type": "code",
   "execution_count": 246,
   "id": "a5669654",
   "metadata": {},
   "outputs": [],
   "source": [
    "df.rename(columns = {0:'X1',1:'X2'},inplace = True)"
   ]
  },
  {
   "cell_type": "code",
   "execution_count": 248,
   "id": "f59e110b",
   "metadata": {},
   "outputs": [
    {
     "data": {
      "text/html": [
       "<div>\n",
       "<style scoped>\n",
       "    .dataframe tbody tr th:only-of-type {\n",
       "        vertical-align: middle;\n",
       "    }\n",
       "\n",
       "    .dataframe tbody tr th {\n",
       "        vertical-align: top;\n",
       "    }\n",
       "\n",
       "    .dataframe thead th {\n",
       "        text-align: right;\n",
       "    }\n",
       "</style>\n",
       "<table border=\"1\" class=\"dataframe\">\n",
       "  <thead>\n",
       "    <tr style=\"text-align: right;\">\n",
       "      <th></th>\n",
       "      <th>X1</th>\n",
       "      <th>X2</th>\n",
       "      <th>label</th>\n",
       "    </tr>\n",
       "  </thead>\n",
       "  <tbody>\n",
       "    <tr>\n",
       "      <th>0</th>\n",
       "      <td>-0.205354</td>\n",
       "      <td>-6.260449</td>\n",
       "      <td>0</td>\n",
       "    </tr>\n",
       "    <tr>\n",
       "      <th>1</th>\n",
       "      <td>-0.315753</td>\n",
       "      <td>-4.273564</td>\n",
       "      <td>0</td>\n",
       "    </tr>\n",
       "    <tr>\n",
       "      <th>2</th>\n",
       "      <td>-0.256403</td>\n",
       "      <td>-5.874314</td>\n",
       "      <td>0</td>\n",
       "    </tr>\n",
       "    <tr>\n",
       "      <th>3</th>\n",
       "      <td>-0.619268</td>\n",
       "      <td>-5.575088</td>\n",
       "      <td>0</td>\n",
       "    </tr>\n",
       "    <tr>\n",
       "      <th>4</th>\n",
       "      <td>-1.203394</td>\n",
       "      <td>0.702708</td>\n",
       "      <td>1</td>\n",
       "    </tr>\n",
       "    <tr>\n",
       "      <th>...</th>\n",
       "      <td>...</td>\n",
       "      <td>...</td>\n",
       "      <td>...</td>\n",
       "    </tr>\n",
       "    <tr>\n",
       "      <th>995</th>\n",
       "      <td>1.098652</td>\n",
       "      <td>0.701263</td>\n",
       "      <td>1</td>\n",
       "    </tr>\n",
       "    <tr>\n",
       "      <th>996</th>\n",
       "      <td>1.765977</td>\n",
       "      <td>1.129570</td>\n",
       "      <td>1</td>\n",
       "    </tr>\n",
       "    <tr>\n",
       "      <th>997</th>\n",
       "      <td>-0.421536</td>\n",
       "      <td>0.789858</td>\n",
       "      <td>1</td>\n",
       "    </tr>\n",
       "    <tr>\n",
       "      <th>998</th>\n",
       "      <td>0.373256</td>\n",
       "      <td>1.098646</td>\n",
       "      <td>1</td>\n",
       "    </tr>\n",
       "    <tr>\n",
       "      <th>999</th>\n",
       "      <td>-0.060123</td>\n",
       "      <td>-4.700684</td>\n",
       "      <td>0</td>\n",
       "    </tr>\n",
       "  </tbody>\n",
       "</table>\n",
       "<p>1000 rows × 3 columns</p>\n",
       "</div>"
      ],
      "text/plain": [
       "           X1        X2  label\n",
       "0   -0.205354 -6.260449      0\n",
       "1   -0.315753 -4.273564      0\n",
       "2   -0.256403 -5.874314      0\n",
       "3   -0.619268 -5.575088      0\n",
       "4   -1.203394  0.702708      1\n",
       "..        ...       ...    ...\n",
       "995  1.098652  0.701263      1\n",
       "996  1.765977  1.129570      1\n",
       "997 -0.421536  0.789858      1\n",
       "998  0.373256  1.098646      1\n",
       "999 -0.060123 -4.700684      0\n",
       "\n",
       "[1000 rows x 3 columns]"
      ]
     },
     "execution_count": 248,
     "metadata": {},
     "output_type": "execute_result"
    }
   ],
   "source": [
    "df"
   ]
  },
  {
   "cell_type": "code",
   "execution_count": 249,
   "id": "6a25a2cc",
   "metadata": {},
   "outputs": [],
   "source": [
    "X0 = [1 for i in range(1000)]"
   ]
  },
  {
   "cell_type": "code",
   "execution_count": 250,
   "id": "ae63544b",
   "metadata": {},
   "outputs": [],
   "source": [
    "df.insert(0, 'X0', X0)"
   ]
  },
  {
   "cell_type": "code",
   "execution_count": 251,
   "id": "8122adba",
   "metadata": {},
   "outputs": [
    {
     "data": {
      "text/html": [
       "<div>\n",
       "<style scoped>\n",
       "    .dataframe tbody tr th:only-of-type {\n",
       "        vertical-align: middle;\n",
       "    }\n",
       "\n",
       "    .dataframe tbody tr th {\n",
       "        vertical-align: top;\n",
       "    }\n",
       "\n",
       "    .dataframe thead th {\n",
       "        text-align: right;\n",
       "    }\n",
       "</style>\n",
       "<table border=\"1\" class=\"dataframe\">\n",
       "  <thead>\n",
       "    <tr style=\"text-align: right;\">\n",
       "      <th></th>\n",
       "      <th>X0</th>\n",
       "      <th>X1</th>\n",
       "      <th>X2</th>\n",
       "      <th>label</th>\n",
       "    </tr>\n",
       "  </thead>\n",
       "  <tbody>\n",
       "    <tr>\n",
       "      <th>0</th>\n",
       "      <td>1</td>\n",
       "      <td>-0.205354</td>\n",
       "      <td>-6.260449</td>\n",
       "      <td>0</td>\n",
       "    </tr>\n",
       "    <tr>\n",
       "      <th>1</th>\n",
       "      <td>1</td>\n",
       "      <td>-0.315753</td>\n",
       "      <td>-4.273564</td>\n",
       "      <td>0</td>\n",
       "    </tr>\n",
       "    <tr>\n",
       "      <th>2</th>\n",
       "      <td>1</td>\n",
       "      <td>-0.256403</td>\n",
       "      <td>-5.874314</td>\n",
       "      <td>0</td>\n",
       "    </tr>\n",
       "    <tr>\n",
       "      <th>3</th>\n",
       "      <td>1</td>\n",
       "      <td>-0.619268</td>\n",
       "      <td>-5.575088</td>\n",
       "      <td>0</td>\n",
       "    </tr>\n",
       "    <tr>\n",
       "      <th>4</th>\n",
       "      <td>1</td>\n",
       "      <td>-1.203394</td>\n",
       "      <td>0.702708</td>\n",
       "      <td>1</td>\n",
       "    </tr>\n",
       "    <tr>\n",
       "      <th>...</th>\n",
       "      <td>...</td>\n",
       "      <td>...</td>\n",
       "      <td>...</td>\n",
       "      <td>...</td>\n",
       "    </tr>\n",
       "    <tr>\n",
       "      <th>995</th>\n",
       "      <td>1</td>\n",
       "      <td>1.098652</td>\n",
       "      <td>0.701263</td>\n",
       "      <td>1</td>\n",
       "    </tr>\n",
       "    <tr>\n",
       "      <th>996</th>\n",
       "      <td>1</td>\n",
       "      <td>1.765977</td>\n",
       "      <td>1.129570</td>\n",
       "      <td>1</td>\n",
       "    </tr>\n",
       "    <tr>\n",
       "      <th>997</th>\n",
       "      <td>1</td>\n",
       "      <td>-0.421536</td>\n",
       "      <td>0.789858</td>\n",
       "      <td>1</td>\n",
       "    </tr>\n",
       "    <tr>\n",
       "      <th>998</th>\n",
       "      <td>1</td>\n",
       "      <td>0.373256</td>\n",
       "      <td>1.098646</td>\n",
       "      <td>1</td>\n",
       "    </tr>\n",
       "    <tr>\n",
       "      <th>999</th>\n",
       "      <td>1</td>\n",
       "      <td>-0.060123</td>\n",
       "      <td>-4.700684</td>\n",
       "      <td>0</td>\n",
       "    </tr>\n",
       "  </tbody>\n",
       "</table>\n",
       "<p>1000 rows × 4 columns</p>\n",
       "</div>"
      ],
      "text/plain": [
       "     X0        X1        X2  label\n",
       "0     1 -0.205354 -6.260449      0\n",
       "1     1 -0.315753 -4.273564      0\n",
       "2     1 -0.256403 -5.874314      0\n",
       "3     1 -0.619268 -5.575088      0\n",
       "4     1 -1.203394  0.702708      1\n",
       "..   ..       ...       ...    ...\n",
       "995   1  1.098652  0.701263      1\n",
       "996   1  1.765977  1.129570      1\n",
       "997   1 -0.421536  0.789858      1\n",
       "998   1  0.373256  1.098646      1\n",
       "999   1 -0.060123 -4.700684      0\n",
       "\n",
       "[1000 rows x 4 columns]"
      ]
     },
     "execution_count": 251,
     "metadata": {},
     "output_type": "execute_result"
    }
   ],
   "source": [
    "df"
   ]
  },
  {
   "cell_type": "code",
   "execution_count": 252,
   "id": "2882c2b6",
   "metadata": {},
   "outputs": [
    {
     "data": {
      "text/plain": [
       "<matplotlib.collections.PathCollection at 0x24ffa599bb0>"
      ]
     },
     "execution_count": 252,
     "metadata": {},
     "output_type": "execute_result"
    },
    {
     "data": {
      "image/png": "[encoded data removed]",
      "text/plain": [
       "<Figure size 720x432 with 1 Axes>"
      ]
     },
     "metadata": {
      "needs_background": "light"
     },
     "output_type": "display_data"
    }
   ],
   "source": [
    "plt.figure(figsize=(10, 6))\n",
    "plt.scatter(df['X1'],df['X2'],c=df['label'],cmap='winter',s=100)"
   ]
  },
  {
   "cell_type": "code",
   "execution_count": 253,
   "id": "539abe3c",
   "metadata": {},
   "outputs": [],
   "source": [
    "df_label_drop = df.drop('label',axis =1)"
   ]
  },
  {
   "cell_type": "code",
   "execution_count": 254,
   "id": "811c714f",
   "metadata": {},
   "outputs": [
    {
     "data": {
      "text/html": [
       "<div>\n",
       "<style scoped>\n",
       "    .dataframe tbody tr th:only-of-type {\n",
       "        vertical-align: middle;\n",
       "    }\n",
       "\n",
       "    .dataframe tbody tr th {\n",
       "        vertical-align: top;\n",
       "    }\n",
       "\n",
       "    .dataframe thead th {\n",
       "        text-align: right;\n",
       "    }\n",
       "</style>\n",
       "<table border=\"1\" class=\"dataframe\">\n",
       "  <thead>\n",
       "    <tr style=\"text-align: right;\">\n",
       "      <th></th>\n",
       "      <th>X0</th>\n",
       "      <th>X1</th>\n",
       "      <th>X2</th>\n",
       "    </tr>\n",
       "  </thead>\n",
       "  <tbody>\n",
       "    <tr>\n",
       "      <th>0</th>\n",
       "      <td>1</td>\n",
       "      <td>-0.205354</td>\n",
       "      <td>-6.260449</td>\n",
       "    </tr>\n",
       "    <tr>\n",
       "      <th>1</th>\n",
       "      <td>1</td>\n",
       "      <td>-0.315753</td>\n",
       "      <td>-4.273564</td>\n",
       "    </tr>\n",
       "    <tr>\n",
       "      <th>2</th>\n",
       "      <td>1</td>\n",
       "      <td>-0.256403</td>\n",
       "      <td>-5.874314</td>\n",
       "    </tr>\n",
       "    <tr>\n",
       "      <th>3</th>\n",
       "      <td>1</td>\n",
       "      <td>-0.619268</td>\n",
       "      <td>-5.575088</td>\n",
       "    </tr>\n",
       "    <tr>\n",
       "      <th>4</th>\n",
       "      <td>1</td>\n",
       "      <td>-1.203394</td>\n",
       "      <td>0.702708</td>\n",
       "    </tr>\n",
       "    <tr>\n",
       "      <th>...</th>\n",
       "      <td>...</td>\n",
       "      <td>...</td>\n",
       "      <td>...</td>\n",
       "    </tr>\n",
       "    <tr>\n",
       "      <th>995</th>\n",
       "      <td>1</td>\n",
       "      <td>1.098652</td>\n",
       "      <td>0.701263</td>\n",
       "    </tr>\n",
       "    <tr>\n",
       "      <th>996</th>\n",
       "      <td>1</td>\n",
       "      <td>1.765977</td>\n",
       "      <td>1.129570</td>\n",
       "    </tr>\n",
       "    <tr>\n",
       "      <th>997</th>\n",
       "      <td>1</td>\n",
       "      <td>-0.421536</td>\n",
       "      <td>0.789858</td>\n",
       "    </tr>\n",
       "    <tr>\n",
       "      <th>998</th>\n",
       "      <td>1</td>\n",
       "      <td>0.373256</td>\n",
       "      <td>1.098646</td>\n",
       "    </tr>\n",
       "    <tr>\n",
       "      <th>999</th>\n",
       "      <td>1</td>\n",
       "      <td>-0.060123</td>\n",
       "      <td>-4.700684</td>\n",
       "    </tr>\n",
       "  </tbody>\n",
       "</table>\n",
       "<p>1000 rows × 3 columns</p>\n",
       "</div>"
      ],
      "text/plain": [
       "     X0        X1        X2\n",
       "0     1 -0.205354 -6.260449\n",
       "1     1 -0.315753 -4.273564\n",
       "2     1 -0.256403 -5.874314\n",
       "3     1 -0.619268 -5.575088\n",
       "4     1 -1.203394  0.702708\n",
       "..   ..       ...       ...\n",
       "995   1  1.098652  0.701263\n",
       "996   1  1.765977  1.129570\n",
       "997   1 -0.421536  0.789858\n",
       "998   1  0.373256  1.098646\n",
       "999   1 -0.060123 -4.700684\n",
       "\n",
       "[1000 rows x 3 columns]"
      ]
     },
     "execution_count": 254,
     "metadata": {},
     "output_type": "execute_result"
    }
   ],
   "source": [
    "df_label_drop"
   ]
  },
  {
   "cell_type": "code",
   "execution_count": 184,
   "id": "c1ec08f1",
   "metadata": {},
   "outputs": [],
   "source": [
    "#np.dot(df_label_drop.iloc[0],[1,1,1])"
   ]
  },
  {
   "cell_type": "code",
   "execution_count": 300,
   "id": "74a5cea1",
   "metadata": {},
   "outputs": [],
   "source": [
    "# We need to get the w0,w1 and w2 for the line in a such a way that line seprates the two categories.\n",
    "def perceptron(df):\n",
    "    epoc = 1000\n",
    "    lr = 0.1\n",
    "    df_label_drop = df.drop('label',axis =1)\n",
    "    wt = np.ones(df.drop('label',axis = 1).shape[1])\n",
    "    for i in range(epoc):\n",
    "        j = np.random.randint(400)\n",
    "        y = df.iloc[j]['label']\n",
    "        z = np.dot(df_label_drop.iloc[j],wt)\n",
    "        y_hat = step(z)\n",
    "        wt = wt+lr*(y-y_hat)*df_label_drop.iloc[j]\n",
    "    return wt"
   ]
  },
  {
   "cell_type": "code",
   "execution_count": 301,
   "id": "45b5676e",
   "metadata": {},
   "outputs": [],
   "source": [
    "def step(z):\n",
    "    return 1 if z>0 else 0"
   ]
  },
  {
   "cell_type": "code",
   "execution_count": 302,
   "id": "dccd2981",
   "metadata": {},
   "outputs": [
    {
     "data": {
      "text/plain": [
       "X0    0.600000\n",
       "X1    0.070542\n",
       "X2    0.584640\n",
       "dtype: float64"
      ]
     },
     "execution_count": 302,
     "metadata": {},
     "output_type": "execute_result"
    }
   ],
   "source": [
    "wt = perceptron(df)\n",
    "wt"
   ]
  },
  {
   "cell_type": "code",
   "execution_count": 303,
   "id": "a3ee8d17",
   "metadata": {},
   "outputs": [],
   "source": [
    "## Get the intercepet and coeff\n",
    "intercept = wt[0]\n",
    "w1,w2 = wt[1:]"
   ]
  },
  {
   "cell_type": "code",
   "execution_count": 304,
   "id": "89438375",
   "metadata": {},
   "outputs": [
    {
     "name": "stdout",
     "output_type": "stream",
     "text": [
      "0.07054233296058512\n",
      "0.5846401369660871\n"
     ]
    }
   ],
   "source": [
    "print(w1)\n",
    "print(w2)"
   ]
  },
  {
   "cell_type": "code",
   "execution_count": 305,
   "id": "49fd78f8",
   "metadata": {},
   "outputs": [],
   "source": [
    "slope = -w1/w2\n",
    "intercept = -intercept/w2"
   ]
  },
  {
   "cell_type": "code",
   "execution_count": 306,
   "id": "fe59e960",
   "metadata": {},
   "outputs": [
    {
     "data": {
      "text/plain": [
       "(-0.12065940824154713, -1.0262723375675522)"
      ]
     },
     "execution_count": 306,
     "metadata": {},
     "output_type": "execute_result"
    }
   ],
   "source": [
    "slope,intercept"
   ]
  },
  {
   "cell_type": "code",
   "execution_count": 307,
   "id": "76c0f6f8",
   "metadata": {},
   "outputs": [],
   "source": [
    "x_data = np.linspace(-10,50,50)\n",
    "y_data = slope*x_data+intercept"
   ]
  },
  {
   "cell_type": "code",
   "execution_count": 308,
   "id": "5f930c64",
   "metadata": {},
   "outputs": [
    {
     "data": {
      "text/plain": [
       "50"
      ]
     },
     "execution_count": 308,
     "metadata": {},
     "output_type": "execute_result"
    }
   ],
   "source": [
    "len(y_data)"
   ]
  },
  {
   "cell_type": "code",
   "execution_count": 309,
   "id": "44b27124",
   "metadata": {},
   "outputs": [
    {
     "data": {
      "text/plain": [
       "(-3.0, 3.0)"
      ]
     },
     "execution_count": 309,
     "metadata": {},
     "output_type": "execute_result"
    },
    {
     "data": {
      "image/png": "[encoded data removed]",
      "text/plain": [
       "<Figure size 1440x720 with 1 Axes>"
      ]
     },
     "metadata": {
      "needs_background": "light"
     },
     "output_type": "display_data"
    }
   ],
   "source": [
    "plt.figure(figsize=(20,10))\n",
    "plt.plot(x_data,y_data,color='red',linewidth=3)\n",
    "plt.scatter(df['X1'],df['X2'],c=df['label'],cmap='winter',s=100)\n",
    "plt.ylim(-5,5)\n",
    "plt.xlim(-3,3)"
   ]
  },
  {
   "cell_type": "markdown",
   "id": "c778007f",
   "metadata": {},
   "source": [
    "## It has a drawback, once the points are classifie properly the algorithm stops, the model doesn't learn further, it doesn't improve itself further.\n",
    "## This output of trick depends on how two classes are seperated <class_sep>, for the same data if the sepration is wider the model would more precisely classify the points."
   ]
  },
  {
   "cell_type": "markdown",
   "id": "6578218f",
   "metadata": {},
   "source": [
    "# Using the Gradient descent to solve the lOSS FUNCTION to get the optimized value of weight so that loss function could be minimized."
   ]
  },
  {
   "cell_type": "code",
   "execution_count": null,
   "id": "de4c5c3f",
   "metadata": {},
   "outputs": [],
   "source": []
  },
  {
   "cell_type": "code",
   "execution_count": 474,
   "id": "5c0ff689",
   "metadata": {},
   "outputs": [],
   "source": [
    "from sklearn.datasets import make_classification\n",
    "import numpy as np\n",
    "import pandas as pd\n",
    "import seaborn as sns\n",
    "import matplotlib.pyplot as plt"
   ]
  },
  {
   "cell_type": "code",
   "execution_count": 500,
   "id": "c8b60b2a",
   "metadata": {},
   "outputs": [],
   "source": [
    "x,y = make_classification(n_samples = 1000,n_features=2, n_informative=1,n_redundant=0,\n",
    "                           n_classes=2, n_clusters_per_class=1, random_state=41,hypercube=False,class_sep=30)"
   ]
  },
  {
   "cell_type": "code",
   "execution_count": 501,
   "id": "659daa22",
   "metadata": {},
   "outputs": [
    {
     "data": {
      "text/html": [
       "<div>\n",
       "<style scoped>\n",
       "    .dataframe tbody tr th:only-of-type {\n",
       "        vertical-align: middle;\n",
       "    }\n",
       "\n",
       "    .dataframe tbody tr th {\n",
       "        vertical-align: top;\n",
       "    }\n",
       "\n",
       "    .dataframe thead th {\n",
       "        text-align: right;\n",
       "    }\n",
       "</style>\n",
       "<table border=\"1\" class=\"dataframe\">\n",
       "  <thead>\n",
       "    <tr style=\"text-align: right;\">\n",
       "      <th></th>\n",
       "      <th>0</th>\n",
       "      <th>1</th>\n",
       "    </tr>\n",
       "  </thead>\n",
       "  <tbody>\n",
       "    <tr>\n",
       "      <th>0</th>\n",
       "      <td>-0.205354</td>\n",
       "      <td>-6.260449</td>\n",
       "    </tr>\n",
       "    <tr>\n",
       "      <th>1</th>\n",
       "      <td>-0.315753</td>\n",
       "      <td>-4.273564</td>\n",
       "    </tr>\n",
       "    <tr>\n",
       "      <th>2</th>\n",
       "      <td>-0.256403</td>\n",
       "      <td>-5.874314</td>\n",
       "    </tr>\n",
       "    <tr>\n",
       "      <th>3</th>\n",
       "      <td>-0.619268</td>\n",
       "      <td>-5.575088</td>\n",
       "    </tr>\n",
       "    <tr>\n",
       "      <th>4</th>\n",
       "      <td>-1.203394</td>\n",
       "      <td>0.702708</td>\n",
       "    </tr>\n",
       "    <tr>\n",
       "      <th>...</th>\n",
       "      <td>...</td>\n",
       "      <td>...</td>\n",
       "    </tr>\n",
       "    <tr>\n",
       "      <th>995</th>\n",
       "      <td>1.098652</td>\n",
       "      <td>0.701263</td>\n",
       "    </tr>\n",
       "    <tr>\n",
       "      <th>996</th>\n",
       "      <td>1.765977</td>\n",
       "      <td>1.129570</td>\n",
       "    </tr>\n",
       "    <tr>\n",
       "      <th>997</th>\n",
       "      <td>-0.421536</td>\n",
       "      <td>0.789858</td>\n",
       "    </tr>\n",
       "    <tr>\n",
       "      <th>998</th>\n",
       "      <td>0.373256</td>\n",
       "      <td>1.098646</td>\n",
       "    </tr>\n",
       "    <tr>\n",
       "      <th>999</th>\n",
       "      <td>-0.060123</td>\n",
       "      <td>-4.700684</td>\n",
       "    </tr>\n",
       "  </tbody>\n",
       "</table>\n",
       "<p>1000 rows × 2 columns</p>\n",
       "</div>"
      ],
      "text/plain": [
       "            0         1\n",
       "0   -0.205354 -6.260449\n",
       "1   -0.315753 -4.273564\n",
       "2   -0.256403 -5.874314\n",
       "3   -0.619268 -5.575088\n",
       "4   -1.203394  0.702708\n",
       "..        ...       ...\n",
       "995  1.098652  0.701263\n",
       "996  1.765977  1.129570\n",
       "997 -0.421536  0.789858\n",
       "998  0.373256  1.098646\n",
       "999 -0.060123 -4.700684\n",
       "\n",
       "[1000 rows x 2 columns]"
      ]
     },
     "execution_count": 501,
     "metadata": {},
     "output_type": "execute_result"
    }
   ],
   "source": [
    "df = pd.DataFrame(x)\n",
    "df"
   ]
  },
  {
   "cell_type": "code",
   "execution_count": 502,
   "id": "34fc969e",
   "metadata": {},
   "outputs": [],
   "source": [
    "df.rename(columns={0:'X1',1:'X2'},inplace = True)"
   ]
  },
  {
   "cell_type": "code",
   "execution_count": 503,
   "id": "e59d4497",
   "metadata": {},
   "outputs": [],
   "source": [
    "label = [1 for i in range(1000)]"
   ]
  },
  {
   "cell_type": "code",
   "execution_count": 504,
   "id": "3959724f",
   "metadata": {},
   "outputs": [],
   "source": [
    "df.insert(0, 'X0', label)"
   ]
  },
  {
   "cell_type": "code",
   "execution_count": 505,
   "id": "86992716",
   "metadata": {},
   "outputs": [],
   "source": [
    "df['X0'] = label"
   ]
  },
  {
   "cell_type": "code",
   "execution_count": 506,
   "id": "60989aa9",
   "metadata": {},
   "outputs": [
    {
     "data": {
      "text/html": [
       "<div>\n",
       "<style scoped>\n",
       "    .dataframe tbody tr th:only-of-type {\n",
       "        vertical-align: middle;\n",
       "    }\n",
       "\n",
       "    .dataframe tbody tr th {\n",
       "        vertical-align: top;\n",
       "    }\n",
       "\n",
       "    .dataframe thead th {\n",
       "        text-align: right;\n",
       "    }\n",
       "</style>\n",
       "<table border=\"1\" class=\"dataframe\">\n",
       "  <thead>\n",
       "    <tr style=\"text-align: right;\">\n",
       "      <th></th>\n",
       "      <th>X0</th>\n",
       "      <th>X1</th>\n",
       "      <th>X2</th>\n",
       "    </tr>\n",
       "  </thead>\n",
       "  <tbody>\n",
       "    <tr>\n",
       "      <th>0</th>\n",
       "      <td>1</td>\n",
       "      <td>-0.205354</td>\n",
       "      <td>-6.260449</td>\n",
       "    </tr>\n",
       "    <tr>\n",
       "      <th>1</th>\n",
       "      <td>1</td>\n",
       "      <td>-0.315753</td>\n",
       "      <td>-4.273564</td>\n",
       "    </tr>\n",
       "    <tr>\n",
       "      <th>2</th>\n",
       "      <td>1</td>\n",
       "      <td>-0.256403</td>\n",
       "      <td>-5.874314</td>\n",
       "    </tr>\n",
       "    <tr>\n",
       "      <th>3</th>\n",
       "      <td>1</td>\n",
       "      <td>-0.619268</td>\n",
       "      <td>-5.575088</td>\n",
       "    </tr>\n",
       "    <tr>\n",
       "      <th>4</th>\n",
       "      <td>1</td>\n",
       "      <td>-1.203394</td>\n",
       "      <td>0.702708</td>\n",
       "    </tr>\n",
       "    <tr>\n",
       "      <th>...</th>\n",
       "      <td>...</td>\n",
       "      <td>...</td>\n",
       "      <td>...</td>\n",
       "    </tr>\n",
       "    <tr>\n",
       "      <th>995</th>\n",
       "      <td>1</td>\n",
       "      <td>1.098652</td>\n",
       "      <td>0.701263</td>\n",
       "    </tr>\n",
       "    <tr>\n",
       "      <th>996</th>\n",
       "      <td>1</td>\n",
       "      <td>1.765977</td>\n",
       "      <td>1.129570</td>\n",
       "    </tr>\n",
       "    <tr>\n",
       "      <th>997</th>\n",
       "      <td>1</td>\n",
       "      <td>-0.421536</td>\n",
       "      <td>0.789858</td>\n",
       "    </tr>\n",
       "    <tr>\n",
       "      <th>998</th>\n",
       "      <td>1</td>\n",
       "      <td>0.373256</td>\n",
       "      <td>1.098646</td>\n",
       "    </tr>\n",
       "    <tr>\n",
       "      <th>999</th>\n",
       "      <td>1</td>\n",
       "      <td>-0.060123</td>\n",
       "      <td>-4.700684</td>\n",
       "    </tr>\n",
       "  </tbody>\n",
       "</table>\n",
       "<p>1000 rows × 3 columns</p>\n",
       "</div>"
      ],
      "text/plain": [
       "     X0        X1        X2\n",
       "0     1 -0.205354 -6.260449\n",
       "1     1 -0.315753 -4.273564\n",
       "2     1 -0.256403 -5.874314\n",
       "3     1 -0.619268 -5.575088\n",
       "4     1 -1.203394  0.702708\n",
       "..   ..       ...       ...\n",
       "995   1  1.098652  0.701263\n",
       "996   1  1.765977  1.129570\n",
       "997   1 -0.421536  0.789858\n",
       "998   1  0.373256  1.098646\n",
       "999   1 -0.060123 -4.700684\n",
       "\n",
       "[1000 rows x 3 columns]"
      ]
     },
     "execution_count": 506,
     "metadata": {},
     "output_type": "execute_result"
    }
   ],
   "source": [
    "df"
   ]
  },
  {
   "cell_type": "code",
   "execution_count": 507,
   "id": "98924a93",
   "metadata": {},
   "outputs": [
    {
     "data": {
      "text/plain": [
       "Index(['X0', 'X1', 'X2'], dtype='object')"
      ]
     },
     "execution_count": 507,
     "metadata": {},
     "output_type": "execute_result"
    }
   ],
   "source": [
    "df.columns"
   ]
  },
  {
   "cell_type": "code",
   "execution_count": 508,
   "id": "43e6bac8",
   "metadata": {},
   "outputs": [
    {
     "data": {
      "text/html": [
       "<div>\n",
       "<style scoped>\n",
       "    .dataframe tbody tr th:only-of-type {\n",
       "        vertical-align: middle;\n",
       "    }\n",
       "\n",
       "    .dataframe tbody tr th {\n",
       "        vertical-align: top;\n",
       "    }\n",
       "\n",
       "    .dataframe thead th {\n",
       "        text-align: right;\n",
       "    }\n",
       "</style>\n",
       "<table border=\"1\" class=\"dataframe\">\n",
       "  <thead>\n",
       "    <tr style=\"text-align: right;\">\n",
       "      <th></th>\n",
       "      <th>X0</th>\n",
       "      <th>X1</th>\n",
       "      <th>X2</th>\n",
       "    </tr>\n",
       "  </thead>\n",
       "  <tbody>\n",
       "    <tr>\n",
       "      <th>0</th>\n",
       "      <td>1</td>\n",
       "      <td>-0.205354</td>\n",
       "      <td>-6.260449</td>\n",
       "    </tr>\n",
       "    <tr>\n",
       "      <th>1</th>\n",
       "      <td>1</td>\n",
       "      <td>-0.315753</td>\n",
       "      <td>-4.273564</td>\n",
       "    </tr>\n",
       "    <tr>\n",
       "      <th>2</th>\n",
       "      <td>1</td>\n",
       "      <td>-0.256403</td>\n",
       "      <td>-5.874314</td>\n",
       "    </tr>\n",
       "    <tr>\n",
       "      <th>3</th>\n",
       "      <td>1</td>\n",
       "      <td>-0.619268</td>\n",
       "      <td>-5.575088</td>\n",
       "    </tr>\n",
       "    <tr>\n",
       "      <th>4</th>\n",
       "      <td>1</td>\n",
       "      <td>-1.203394</td>\n",
       "      <td>0.702708</td>\n",
       "    </tr>\n",
       "    <tr>\n",
       "      <th>...</th>\n",
       "      <td>...</td>\n",
       "      <td>...</td>\n",
       "      <td>...</td>\n",
       "    </tr>\n",
       "    <tr>\n",
       "      <th>995</th>\n",
       "      <td>1</td>\n",
       "      <td>1.098652</td>\n",
       "      <td>0.701263</td>\n",
       "    </tr>\n",
       "    <tr>\n",
       "      <th>996</th>\n",
       "      <td>1</td>\n",
       "      <td>1.765977</td>\n",
       "      <td>1.129570</td>\n",
       "    </tr>\n",
       "    <tr>\n",
       "      <th>997</th>\n",
       "      <td>1</td>\n",
       "      <td>-0.421536</td>\n",
       "      <td>0.789858</td>\n",
       "    </tr>\n",
       "    <tr>\n",
       "      <th>998</th>\n",
       "      <td>1</td>\n",
       "      <td>0.373256</td>\n",
       "      <td>1.098646</td>\n",
       "    </tr>\n",
       "    <tr>\n",
       "      <th>999</th>\n",
       "      <td>1</td>\n",
       "      <td>-0.060123</td>\n",
       "      <td>-4.700684</td>\n",
       "    </tr>\n",
       "  </tbody>\n",
       "</table>\n",
       "<p>1000 rows × 3 columns</p>\n",
       "</div>"
      ],
      "text/plain": [
       "     X0        X1        X2\n",
       "0     1 -0.205354 -6.260449\n",
       "1     1 -0.315753 -4.273564\n",
       "2     1 -0.256403 -5.874314\n",
       "3     1 -0.619268 -5.575088\n",
       "4     1 -1.203394  0.702708\n",
       "..   ..       ...       ...\n",
       "995   1  1.098652  0.701263\n",
       "996   1  1.765977  1.129570\n",
       "997   1 -0.421536  0.789858\n",
       "998   1  0.373256  1.098646\n",
       "999   1 -0.060123 -4.700684\n",
       "\n",
       "[1000 rows x 3 columns]"
      ]
     },
     "execution_count": 508,
     "metadata": {},
     "output_type": "execute_result"
    }
   ],
   "source": [
    "df"
   ]
  },
  {
   "cell_type": "code",
   "execution_count": 509,
   "id": "3b15cfe8",
   "metadata": {},
   "outputs": [],
   "source": [
    "df['y'] = y"
   ]
  },
  {
   "cell_type": "code",
   "execution_count": 510,
   "id": "b9027d21",
   "metadata": {},
   "outputs": [
    {
     "data": {
      "text/html": [
       "<div>\n",
       "<style scoped>\n",
       "    .dataframe tbody tr th:only-of-type {\n",
       "        vertical-align: middle;\n",
       "    }\n",
       "\n",
       "    .dataframe tbody tr th {\n",
       "        vertical-align: top;\n",
       "    }\n",
       "\n",
       "    .dataframe thead th {\n",
       "        text-align: right;\n",
       "    }\n",
       "</style>\n",
       "<table border=\"1\" class=\"dataframe\">\n",
       "  <thead>\n",
       "    <tr style=\"text-align: right;\">\n",
       "      <th></th>\n",
       "      <th>X0</th>\n",
       "      <th>X1</th>\n",
       "      <th>X2</th>\n",
       "      <th>y</th>\n",
       "    </tr>\n",
       "  </thead>\n",
       "  <tbody>\n",
       "    <tr>\n",
       "      <th>0</th>\n",
       "      <td>1</td>\n",
       "      <td>-0.205354</td>\n",
       "      <td>-6.260449</td>\n",
       "      <td>0</td>\n",
       "    </tr>\n",
       "    <tr>\n",
       "      <th>1</th>\n",
       "      <td>1</td>\n",
       "      <td>-0.315753</td>\n",
       "      <td>-4.273564</td>\n",
       "      <td>0</td>\n",
       "    </tr>\n",
       "    <tr>\n",
       "      <th>2</th>\n",
       "      <td>1</td>\n",
       "      <td>-0.256403</td>\n",
       "      <td>-5.874314</td>\n",
       "      <td>0</td>\n",
       "    </tr>\n",
       "    <tr>\n",
       "      <th>3</th>\n",
       "      <td>1</td>\n",
       "      <td>-0.619268</td>\n",
       "      <td>-5.575088</td>\n",
       "      <td>0</td>\n",
       "    </tr>\n",
       "    <tr>\n",
       "      <th>4</th>\n",
       "      <td>1</td>\n",
       "      <td>-1.203394</td>\n",
       "      <td>0.702708</td>\n",
       "      <td>1</td>\n",
       "    </tr>\n",
       "    <tr>\n",
       "      <th>...</th>\n",
       "      <td>...</td>\n",
       "      <td>...</td>\n",
       "      <td>...</td>\n",
       "      <td>...</td>\n",
       "    </tr>\n",
       "    <tr>\n",
       "      <th>995</th>\n",
       "      <td>1</td>\n",
       "      <td>1.098652</td>\n",
       "      <td>0.701263</td>\n",
       "      <td>1</td>\n",
       "    </tr>\n",
       "    <tr>\n",
       "      <th>996</th>\n",
       "      <td>1</td>\n",
       "      <td>1.765977</td>\n",
       "      <td>1.129570</td>\n",
       "      <td>1</td>\n",
       "    </tr>\n",
       "    <tr>\n",
       "      <th>997</th>\n",
       "      <td>1</td>\n",
       "      <td>-0.421536</td>\n",
       "      <td>0.789858</td>\n",
       "      <td>1</td>\n",
       "    </tr>\n",
       "    <tr>\n",
       "      <th>998</th>\n",
       "      <td>1</td>\n",
       "      <td>0.373256</td>\n",
       "      <td>1.098646</td>\n",
       "      <td>1</td>\n",
       "    </tr>\n",
       "    <tr>\n",
       "      <th>999</th>\n",
       "      <td>1</td>\n",
       "      <td>-0.060123</td>\n",
       "      <td>-4.700684</td>\n",
       "      <td>0</td>\n",
       "    </tr>\n",
       "  </tbody>\n",
       "</table>\n",
       "<p>1000 rows × 4 columns</p>\n",
       "</div>"
      ],
      "text/plain": [
       "     X0        X1        X2  y\n",
       "0     1 -0.205354 -6.260449  0\n",
       "1     1 -0.315753 -4.273564  0\n",
       "2     1 -0.256403 -5.874314  0\n",
       "3     1 -0.619268 -5.575088  0\n",
       "4     1 -1.203394  0.702708  1\n",
       "..   ..       ...       ... ..\n",
       "995   1  1.098652  0.701263  1\n",
       "996   1  1.765977  1.129570  1\n",
       "997   1 -0.421536  0.789858  1\n",
       "998   1  0.373256  1.098646  1\n",
       "999   1 -0.060123 -4.700684  0\n",
       "\n",
       "[1000 rows x 4 columns]"
      ]
     },
     "execution_count": 510,
     "metadata": {},
     "output_type": "execute_result"
    }
   ],
   "source": [
    "df"
   ]
  },
  {
   "cell_type": "code",
   "execution_count": 424,
   "id": "2437e3c0",
   "metadata": {},
   "outputs": [
    {
     "data": {
      "text/plain": [
       "0      0\n",
       "1      0\n",
       "2      0\n",
       "3      0\n",
       "4      1\n",
       "      ..\n",
       "995    1\n",
       "996    1\n",
       "997    1\n",
       "998    1\n",
       "999    0\n",
       "Name: y, Length: 1000, dtype: int32"
      ]
     },
     "execution_count": 424,
     "metadata": {},
     "output_type": "execute_result"
    }
   ],
   "source": [
    "df['y']"
   ]
  },
  {
   "cell_type": "code",
   "execution_count": 460,
   "id": "5e6fb207",
   "metadata": {},
   "outputs": [
    {
     "data": {
      "text/plain": [
       "array([1., 1., 1.])"
      ]
     },
     "execution_count": 460,
     "metadata": {},
     "output_type": "execute_result"
    }
   ],
   "source": [
    "# plt.figure(figsize= (10,5))\n",
    "# plt.scatter(df['X1'],df['X2'],c=df['y'],cmap = 'winter',s=100)\n",
    "# plt.figure(figsize= (10,5))\n",
    "# plt.scatter(x,c=df['y'],cmap = 'winter',s=100)\n",
    "# x = np.insert(x,0,1,axis = 1)\n",
    "# x.shape\n",
    "np.ones(x.shape[1])"
   ]
  },
  {
   "cell_type": "code",
   "execution_count": 426,
   "id": "068fe6af",
   "metadata": {},
   "outputs": [
    {
     "data": {
      "text/plain": [
       "array([1., 1., 1.])"
      ]
     },
     "execution_count": 426,
     "metadata": {},
     "output_type": "execute_result"
    }
   ],
   "source": [
    "# def gd(x,y):\n",
    "#     for i in range(3000):\n",
    "        \n",
    "#         wt = np.ones(x.shape[1])\n",
    "#         lr = 0.5"
   ]
  },
  {
   "cell_type": "code",
   "execution_count": 485,
   "id": "e63ca3b2",
   "metadata": {},
   "outputs": [
    {
     "data": {
      "text/html": [
       "<div>\n",
       "<style scoped>\n",
       "    .dataframe tbody tr th:only-of-type {\n",
       "        vertical-align: middle;\n",
       "    }\n",
       "\n",
       "    .dataframe tbody tr th {\n",
       "        vertical-align: top;\n",
       "    }\n",
       "\n",
       "    .dataframe thead th {\n",
       "        text-align: right;\n",
       "    }\n",
       "</style>\n",
       "<table border=\"1\" class=\"dataframe\">\n",
       "  <thead>\n",
       "    <tr style=\"text-align: right;\">\n",
       "      <th></th>\n",
       "      <th>X0</th>\n",
       "      <th>X1</th>\n",
       "      <th>X2</th>\n",
       "      <th>y</th>\n",
       "    </tr>\n",
       "  </thead>\n",
       "  <tbody>\n",
       "    <tr>\n",
       "      <th>0</th>\n",
       "      <td>1</td>\n",
       "      <td>-0.205354</td>\n",
       "      <td>-9.657033</td>\n",
       "      <td>0</td>\n",
       "    </tr>\n",
       "    <tr>\n",
       "      <th>1</th>\n",
       "      <td>1</td>\n",
       "      <td>-0.315753</td>\n",
       "      <td>-7.670148</td>\n",
       "      <td>0</td>\n",
       "    </tr>\n",
       "    <tr>\n",
       "      <th>2</th>\n",
       "      <td>1</td>\n",
       "      <td>-0.256403</td>\n",
       "      <td>-9.270898</td>\n",
       "      <td>0</td>\n",
       "    </tr>\n",
       "    <tr>\n",
       "      <th>3</th>\n",
       "      <td>1</td>\n",
       "      <td>-0.619268</td>\n",
       "      <td>-8.971672</td>\n",
       "      <td>0</td>\n",
       "    </tr>\n",
       "    <tr>\n",
       "      <th>4</th>\n",
       "      <td>1</td>\n",
       "      <td>-1.203394</td>\n",
       "      <td>1.326676</td>\n",
       "      <td>1</td>\n",
       "    </tr>\n",
       "    <tr>\n",
       "      <th>...</th>\n",
       "      <td>...</td>\n",
       "      <td>...</td>\n",
       "      <td>...</td>\n",
       "      <td>...</td>\n",
       "    </tr>\n",
       "    <tr>\n",
       "      <th>995</th>\n",
       "      <td>1</td>\n",
       "      <td>1.098652</td>\n",
       "      <td>1.325231</td>\n",
       "      <td>1</td>\n",
       "    </tr>\n",
       "    <tr>\n",
       "      <th>996</th>\n",
       "      <td>1</td>\n",
       "      <td>1.765977</td>\n",
       "      <td>1.753538</td>\n",
       "      <td>1</td>\n",
       "    </tr>\n",
       "    <tr>\n",
       "      <th>997</th>\n",
       "      <td>1</td>\n",
       "      <td>-0.421536</td>\n",
       "      <td>1.413826</td>\n",
       "      <td>1</td>\n",
       "    </tr>\n",
       "    <tr>\n",
       "      <th>998</th>\n",
       "      <td>1</td>\n",
       "      <td>0.373256</td>\n",
       "      <td>1.722614</td>\n",
       "      <td>1</td>\n",
       "    </tr>\n",
       "    <tr>\n",
       "      <th>999</th>\n",
       "      <td>1</td>\n",
       "      <td>-0.060123</td>\n",
       "      <td>-8.097267</td>\n",
       "      <td>0</td>\n",
       "    </tr>\n",
       "  </tbody>\n",
       "</table>\n",
       "<p>1000 rows × 4 columns</p>\n",
       "</div>"
      ],
      "text/plain": [
       "     X0        X1        X2  y\n",
       "0     1 -0.205354 -9.657033  0\n",
       "1     1 -0.315753 -7.670148  0\n",
       "2     1 -0.256403 -9.270898  0\n",
       "3     1 -0.619268 -8.971672  0\n",
       "4     1 -1.203394  1.326676  1\n",
       "..   ..       ...       ... ..\n",
       "995   1  1.098652  1.325231  1\n",
       "996   1  1.765977  1.753538  1\n",
       "997   1 -0.421536  1.413826  1\n",
       "998   1  0.373256  1.722614  1\n",
       "999   1 -0.060123 -8.097267  0\n",
       "\n",
       "[1000 rows x 4 columns]"
      ]
     },
     "execution_count": 485,
     "metadata": {},
     "output_type": "execute_result"
    }
   ],
   "source": [
    "df"
   ]
  },
  {
   "cell_type": "code",
   "execution_count": 541,
   "id": "c02ca714",
   "metadata": {},
   "outputs": [],
   "source": [
    "def gradient_descent(df):\n",
    "    wt= np.ones(df.drop('y',axis = 1).shape[1])\n",
    "    lr = 0.5\n",
    "    for i in range(3000):\n",
    "        y = df['y']\n",
    "        y_hat = sigmoid(np.dot(df.drop('y',axis = 1),wt))\n",
    "        wt = wt+lr*(np.dot((y-y_hat),df.drop('y',axis = 1)/df.shape[0]))\n",
    "    return wt"
   ]
  },
  {
   "cell_type": "code",
   "execution_count": 542,
   "id": "1b0f9908",
   "metadata": {},
   "outputs": [
    {
     "data": {
      "text/plain": [
       "-7.164095"
      ]
     },
     "execution_count": 542,
     "metadata": {},
     "output_type": "execute_result"
    }
   ],
   "source": [
    "# wt= np.ones(df.drop('y',axis = 1).shape[1])\n",
    "# x= df.drop('y',axis = 1)\n",
    "# x\n",
    "wt= np.ones(df.drop('y',axis = 1).shape[1])\n",
    "np.dot([1,-0.205354,-7.958741],wt)"
   ]
  },
  {
   "cell_type": "code",
   "execution_count": 543,
   "id": "7b3aa347",
   "metadata": {},
   "outputs": [],
   "source": [
    "def sigmoid(z):\n",
    "    return 1/(1+np.exp(-z))"
   ]
  },
  {
   "cell_type": "code",
   "execution_count": 544,
   "id": "4e6dabdc",
   "metadata": {},
   "outputs": [],
   "source": [
    "wt = gradient_descent(df)"
   ]
  },
  {
   "cell_type": "code",
   "execution_count": 545,
   "id": "fd63e972",
   "metadata": {},
   "outputs": [
    {
     "data": {
      "text/plain": [
       "array([ 3.05805599, -0.36871773,  1.70307846])"
      ]
     },
     "execution_count": 545,
     "metadata": {},
     "output_type": "execute_result"
    }
   ],
   "source": [
    "wt"
   ]
  },
  {
   "cell_type": "code",
   "execution_count": 433,
   "id": "5a93871f",
   "metadata": {},
   "outputs": [],
   "source": [
    "# wt,y_hat,y"
   ]
  },
  {
   "cell_type": "code",
   "execution_count": 546,
   "id": "f1371fbb",
   "metadata": {},
   "outputs": [],
   "source": [
    "intercept_= wt[0]\n",
    "a = wt[1]\n",
    "b = wt[2]"
   ]
  },
  {
   "cell_type": "code",
   "execution_count": 547,
   "id": "2ef1db47",
   "metadata": {},
   "outputs": [
    {
     "data": {
      "text/plain": [
       "(3.058055992423005, -0.36871773267780694, 1.703078464379548)"
      ]
     },
     "execution_count": 547,
     "metadata": {},
     "output_type": "execute_result"
    }
   ],
   "source": [
    "intercept_,a,b"
   ]
  },
  {
   "cell_type": "code",
   "execution_count": 548,
   "id": "aa7485a2",
   "metadata": {},
   "outputs": [],
   "source": [
    "slope = -a/b\n",
    "intercept_=-intercept_/b"
   ]
  },
  {
   "cell_type": "code",
   "execution_count": 549,
   "id": "ada3bdcb",
   "metadata": {},
   "outputs": [
    {
     "data": {
      "text/plain": [
       "(0.21650073111113835, -1.7956048745746378)"
      ]
     },
     "execution_count": 549,
     "metadata": {},
     "output_type": "execute_result"
    }
   ],
   "source": [
    "slope,intercept_"
   ]
  },
  {
   "cell_type": "code",
   "execution_count": 550,
   "id": "163f67ad",
   "metadata": {},
   "outputs": [],
   "source": [
    "x_data = np.linspace(-10,50,50)\n",
    "y_data = slope*x_data+intercept_"
   ]
  },
  {
   "cell_type": "code",
   "execution_count": 551,
   "id": "fec6c5cf",
   "metadata": {},
   "outputs": [
    {
     "data": {
      "text/plain": [
       "LogisticRegression(penalty='none', solver='sag')"
      ]
     },
     "execution_count": 551,
     "metadata": {},
     "output_type": "execute_result"
    }
   ],
   "source": [
    "from sklearn.linear_model import LogisticRegression\n",
    "lor = LogisticRegression(penalty = 'none' , solver = 'sag')\n",
    "x  = df.drop(['y','X0'],axis = 1)\n",
    "y = df['y']\n",
    "lor.fit(x,y)"
   ]
  },
  {
   "cell_type": "code",
   "execution_count": 552,
   "id": "a19a551e",
   "metadata": {},
   "outputs": [
    {
     "name": "stdout",
     "output_type": "stream",
     "text": [
      "[[-0.36880418  1.70328746]]\n",
      "[3.0581698]\n"
     ]
    }
   ],
   "source": [
    "print(lor.coef_)\n",
    "print(lor.intercept_)"
   ]
  },
  {
   "cell_type": "code",
   "execution_count": 553,
   "id": "8ff8621d",
   "metadata": {},
   "outputs": [
    {
     "data": {
      "text/plain": [
       "(0.21652491760078452, array([-1.79545137]))"
      ]
     },
     "execution_count": 553,
     "metadata": {},
     "output_type": "execute_result"
    }
   ],
   "source": [
    "slope = -(lor.coef_[0][0]/lor.coef_[0][1])\n",
    "intercept = -(lor.intercept_/lor.coef_[0][1])\n",
    "slope,intercept"
   ]
  },
  {
   "cell_type": "code",
   "execution_count": 554,
   "id": "753f54d5",
   "metadata": {},
   "outputs": [],
   "source": [
    "x_data_ = np.linspace(-10,50,50)\n",
    "y_data_ = slope*x_data+intercept"
   ]
  },
  {
   "cell_type": "code",
   "execution_count": 558,
   "id": "192471a9",
   "metadata": {},
   "outputs": [
    {
     "data": {
      "text/plain": [
       "(-5.0, 5.0)"
      ]
     },
     "execution_count": 558,
     "metadata": {},
     "output_type": "execute_result"
    },
    {
     "data": {
      "image/png": "[encoded data removed]",
      "text/plain": [
       "<Figure size 1440x360 with 1 Axes>"
      ]
     },
     "metadata": {
      "needs_background": "light"
     },
     "output_type": "display_data"
    }
   ],
   "source": [
    "plt.figure(figsize= (20,5))\n",
    "plt.plot(x_data,y_data,color='red',linewidth=5)\n",
    "plt.plot(x_data_,y_data_,color='black',linewidth=5)\n",
    "plt.scatter(df['X1'],df['X2'],c=df['y'],cmap='winter',s=100)\n",
    "plt.ylim(-20,5)\n",
    "plt.xlim(-5,5)"
   ]
  },
  {
   "cell_type": "code",
   "execution_count": null,
   "id": "441f9dd9",
   "metadata": {},
   "outputs": [],
   "source": [
    "## perciptron trick ends here.."
   ]
  },
  {
   "cell_type": "code",
   "execution_count": 17,
   "id": "ca26ad0d",
   "metadata": {},
   "outputs": [],
   "source": [
    "import pandas as pd\n",
    "df_emp = pd.DataFrame({'employee_id':[2,3,7,8,9],'name':['meir','michael','addilyn','juan','kannon'],'salary':[3000,3800,7400,6100,7700]})\n"
   ]
  },
  {
   "cell_type": "code",
   "execution_count": 18,
   "id": "99f46f6f",
   "metadata": {},
   "outputs": [
    {
     "data": {
      "text/html": [
       "<div>\n",
       "<style scoped>\n",
       "    .dataframe tbody tr th:only-of-type {\n",
       "        vertical-align: middle;\n",
       "    }\n",
       "\n",
       "    .dataframe tbody tr th {\n",
       "        vertical-align: top;\n",
       "    }\n",
       "\n",
       "    .dataframe thead th {\n",
       "        text-align: right;\n",
       "    }\n",
       "</style>\n",
       "<table border=\"1\" class=\"dataframe\">\n",
       "  <thead>\n",
       "    <tr style=\"text-align: right;\">\n",
       "      <th></th>\n",
       "      <th>employee_id</th>\n",
       "      <th>name</th>\n",
       "      <th>salary</th>\n",
       "    </tr>\n",
       "  </thead>\n",
       "  <tbody>\n",
       "    <tr>\n",
       "      <th>0</th>\n",
       "      <td>2</td>\n",
       "      <td>meir</td>\n",
       "      <td>3000</td>\n",
       "    </tr>\n",
       "    <tr>\n",
       "      <th>1</th>\n",
       "      <td>3</td>\n",
       "      <td>michael</td>\n",
       "      <td>3800</td>\n",
       "    </tr>\n",
       "    <tr>\n",
       "      <th>2</th>\n",
       "      <td>7</td>\n",
       "      <td>addilyn</td>\n",
       "      <td>7400</td>\n",
       "    </tr>\n",
       "    <tr>\n",
       "      <th>3</th>\n",
       "      <td>8</td>\n",
       "      <td>juan</td>\n",
       "      <td>6100</td>\n",
       "    </tr>\n",
       "    <tr>\n",
       "      <th>4</th>\n",
       "      <td>9</td>\n",
       "      <td>kannon</td>\n",
       "      <td>7700</td>\n",
       "    </tr>\n",
       "  </tbody>\n",
       "</table>\n",
       "</div>"
      ],
      "text/plain": [
       "   employee_id     name  salary\n",
       "0            2     meir    3000\n",
       "1            3  michael    3800\n",
       "2            7  addilyn    7400\n",
       "3            8     juan    6100\n",
       "4            9   kannon    7700"
      ]
     },
     "execution_count": 18,
     "metadata": {},
     "output_type": "execute_result"
    }
   ],
   "source": [
    "df_emp"
   ]
  },
  {
   "cell_type": "code",
   "execution_count": 87,
   "id": "af4bf60c",
   "metadata": {},
   "outputs": [],
   "source": [
    "df_emp['bonus'] = df_emp.apply(lambda x : x[\"salary\"] if(x[\"name\"][0]!=\"m\" and x[\"employee_id\"]%2!=0)else 0,axis =1)"
   ]
  },
  {
   "cell_type": "code",
   "execution_count": 90,
   "id": "f9800ab9",
   "metadata": {},
   "outputs": [
    {
     "data": {
      "text/html": [
       "<div>\n",
       "<style scoped>\n",
       "    .dataframe tbody tr th:only-of-type {\n",
       "        vertical-align: middle;\n",
       "    }\n",
       "\n",
       "    .dataframe tbody tr th {\n",
       "        vertical-align: top;\n",
       "    }\n",
       "\n",
       "    .dataframe thead th {\n",
       "        text-align: right;\n",
       "    }\n",
       "</style>\n",
       "<table border=\"1\" class=\"dataframe\">\n",
       "  <thead>\n",
       "    <tr style=\"text-align: right;\">\n",
       "      <th></th>\n",
       "      <th>employee_id</th>\n",
       "      <th>bonus</th>\n",
       "    </tr>\n",
       "  </thead>\n",
       "  <tbody>\n",
       "    <tr>\n",
       "      <th>0</th>\n",
       "      <td>2</td>\n",
       "      <td>0</td>\n",
       "    </tr>\n",
       "    <tr>\n",
       "      <th>1</th>\n",
       "      <td>3</td>\n",
       "      <td>0</td>\n",
       "    </tr>\n",
       "    <tr>\n",
       "      <th>2</th>\n",
       "      <td>7</td>\n",
       "      <td>7400</td>\n",
       "    </tr>\n",
       "    <tr>\n",
       "      <th>3</th>\n",
       "      <td>8</td>\n",
       "      <td>0</td>\n",
       "    </tr>\n",
       "    <tr>\n",
       "      <th>4</th>\n",
       "      <td>9</td>\n",
       "      <td>7700</td>\n",
       "    </tr>\n",
       "  </tbody>\n",
       "</table>\n",
       "</div>"
      ],
      "text/plain": [
       "   employee_id  bonus\n",
       "0            2      0\n",
       "1            3      0\n",
       "2            7   7400\n",
       "3            8      0\n",
       "4            9   7700"
      ]
     },
     "execution_count": 90,
     "metadata": {},
     "output_type": "execute_result"
    }
   ],
   "source": [
    "df_emp[['employee_id','bonus']].sort_values(['employee_id','bonus'])"
   ]
  },
  {
   "cell_type": "code",
   "execution_count": 99,
   "id": "10486ae6",
   "metadata": {},
   "outputs": [
    {
     "data": {
      "text/plain": [
       "pandas.core.series.Series"
      ]
     },
     "execution_count": 99,
     "metadata": {},
     "output_type": "execute_result"
    }
   ],
   "source": [
    "type(df_emp['name'].str.lower().str.startswith('m'))"
   ]
  },
  {
   "cell_type": "code",
   "execution_count": null,
   "id": "96fdf7f4",
   "metadata": {},
   "outputs": [],
   "source": []
  },
  {
   "cell_type": "code",
   "execution_count": 77,
   "id": "25f4fd37",
   "metadata": {},
   "outputs": [],
   "source": [
    "df_emp[\"bonus\"] = df_emp.apply(lambda x : x[\"salary\"] if x[\"employee_id\"] % 2 != 0 and x[\"name\"][0] != \"M\" else 0, axis = 1)"
   ]
  },
  {
   "cell_type": "code",
   "execution_count": 78,
   "id": "98b81556",
   "metadata": {},
   "outputs": [
    {
     "data": {
      "text/html": [
       "<div>\n",
       "<style scoped>\n",
       "    .dataframe tbody tr th:only-of-type {\n",
       "        vertical-align: middle;\n",
       "    }\n",
       "\n",
       "    .dataframe tbody tr th {\n",
       "        vertical-align: top;\n",
       "    }\n",
       "\n",
       "    .dataframe thead th {\n",
       "        text-align: right;\n",
       "    }\n",
       "</style>\n",
       "<table border=\"1\" class=\"dataframe\">\n",
       "  <thead>\n",
       "    <tr style=\"text-align: right;\">\n",
       "      <th></th>\n",
       "      <th>employee_id</th>\n",
       "      <th>name</th>\n",
       "      <th>salary</th>\n",
       "      <th>bonus</th>\n",
       "    </tr>\n",
       "  </thead>\n",
       "  <tbody>\n",
       "    <tr>\n",
       "      <th>0</th>\n",
       "      <td>2</td>\n",
       "      <td>meir</td>\n",
       "      <td>3000</td>\n",
       "      <td>0</td>\n",
       "    </tr>\n",
       "    <tr>\n",
       "      <th>1</th>\n",
       "      <td>3</td>\n",
       "      <td>michael</td>\n",
       "      <td>3800</td>\n",
       "      <td>3800</td>\n",
       "    </tr>\n",
       "    <tr>\n",
       "      <th>2</th>\n",
       "      <td>7</td>\n",
       "      <td>addilyn</td>\n",
       "      <td>7400</td>\n",
       "      <td>7400</td>\n",
       "    </tr>\n",
       "    <tr>\n",
       "      <th>3</th>\n",
       "      <td>8</td>\n",
       "      <td>juan</td>\n",
       "      <td>6100</td>\n",
       "      <td>0</td>\n",
       "    </tr>\n",
       "    <tr>\n",
       "      <th>4</th>\n",
       "      <td>9</td>\n",
       "      <td>kannon</td>\n",
       "      <td>7700</td>\n",
       "      <td>7700</td>\n",
       "    </tr>\n",
       "  </tbody>\n",
       "</table>\n",
       "</div>"
      ],
      "text/plain": [
       "   employee_id     name  salary  bonus\n",
       "0            2     meir    3000      0\n",
       "1            3  michael    3800   3800\n",
       "2            7  addilyn    7400   7400\n",
       "3            8     juan    6100      0\n",
       "4            9   kannon    7700   7700"
      ]
     },
     "execution_count": 78,
     "metadata": {},
     "output_type": "execute_result"
    }
   ],
   "source": [
    "df_emp"
   ]
  },
  {
   "cell_type": "code",
   "execution_count": 81,
   "id": "a09595ec",
   "metadata": {},
   "outputs": [
    {
     "data": {
      "text/plain": [
       "'meir'"
      ]
     },
     "execution_count": 81,
     "metadata": {},
     "output_type": "execute_result"
    }
   ],
   "source": [
    "df_emp[\"name\"][0]"
   ]
  },
  {
   "cell_type": "code",
   "execution_count": null,
   "id": "e8d67f44",
   "metadata": {},
   "outputs": [],
   "source": []
  },
  {
   "cell_type": "code",
   "execution_count": 71,
   "id": "c6504964",
   "metadata": {},
   "outputs": [
    {
     "data": {
      "text/plain": [
       "0    False\n",
       "1    False\n",
       "2    False\n",
       "3    False\n",
       "4    False\n",
       "Name: name, dtype: bool"
      ]
     },
     "execution_count": 71,
     "metadata": {},
     "output_type": "execute_result"
    }
   ],
   "source": [
    "df_emp['name'].str.startswith('M')\n",
    "#startswith('M')"
   ]
  },
  {
   "cell_type": "code",
   "execution_count": 3,
   "id": "aa7c4b8f",
   "metadata": {},
   "outputs": [
    {
     "data": {
      "text/html": [
       "<div>\n",
       "<style scoped>\n",
       "    .dataframe tbody tr th:only-of-type {\n",
       "        vertical-align: middle;\n",
       "    }\n",
       "\n",
       "    .dataframe tbody tr th {\n",
       "        vertical-align: top;\n",
       "    }\n",
       "\n",
       "    .dataframe thead th {\n",
       "        text-align: right;\n",
       "    }\n",
       "</style>\n",
       "<table border=\"1\" class=\"dataframe\">\n",
       "  <thead>\n",
       "    <tr style=\"text-align: right;\">\n",
       "      <th></th>\n",
       "      <th>employee_id</th>\n",
       "      <th>name</th>\n",
       "      <th>salary</th>\n",
       "    </tr>\n",
       "  </thead>\n",
       "  <tbody>\n",
       "    <tr>\n",
       "      <th>1</th>\n",
       "      <td>3</td>\n",
       "      <td>michael</td>\n",
       "      <td>3800</td>\n",
       "    </tr>\n",
       "    <tr>\n",
       "      <th>2</th>\n",
       "      <td>7</td>\n",
       "      <td>addilyn</td>\n",
       "      <td>7400</td>\n",
       "    </tr>\n",
       "    <tr>\n",
       "      <th>4</th>\n",
       "      <td>9</td>\n",
       "      <td>kannon</td>\n",
       "      <td>7700</td>\n",
       "    </tr>\n",
       "  </tbody>\n",
       "</table>\n",
       "</div>"
      ],
      "text/plain": [
       "   employee_id     name  salary\n",
       "1            3  michael    3800\n",
       "2            7  addilyn    7400\n",
       "4            9   kannon    7700"
      ]
     },
     "execution_count": 3,
     "metadata": {},
     "output_type": "execute_result"
    }
   ],
   "source": [
    "df_emp[(df_emp['employee_id']%2!=0])&(df_emp['name']%2!=0])]"
   ]
  },
  {
   "cell_type": "code",
   "execution_count": 36,
   "id": "e35a1ab2",
   "metadata": {},
   "outputs": [
    {
     "name": "stdout",
     "output_type": "stream",
     "text": [
      "index:1\n",
      "value:\n",
      "employee_id          3\n",
      "name           michael\n",
      "salary            3800\n",
      "Name: 1, dtype: object\n",
      "index:2\n",
      "value:\n",
      "employee_id          7\n",
      "name           addilyn\n",
      "salary            7400\n",
      "Name: 2, dtype: object\n",
      "index:4\n",
      "value:\n",
      "employee_id         9\n",
      "name           kannon\n",
      "salary           7700\n",
      "Name: 4, dtype: object\n"
     ]
    }
   ],
   "source": [
    "for index, val in df_emp[df_emp['employee_id']%2!=0].iterrows():\n",
    "    print(f\"index:{index}\")\n",
    "    print(f\"value:\\n{val}\")"
   ]
  },
  {
   "cell_type": "code",
   "execution_count": 42,
   "id": "8f4591d6",
   "metadata": {},
   "outputs": [
    {
     "name": "stdout",
     "output_type": "stream",
     "text": [
      "False\n",
      "True\n",
      "True\n"
     ]
    }
   ],
   "source": [
    "for index, val in df_emp[df_emp['employee_id']%2!=0].iterrows():\n",
    "    #print(f\"index:{index}\")\n",
    "    #print(f\"value:\\n{val['name']}\")\n",
    "    print(val['name'][0].upper()!='M')"
   ]
  },
  {
   "cell_type": "code",
   "execution_count": 68,
   "id": "4c15c6f4",
   "metadata": {},
   "outputs": [],
   "source": [
    "def fun(df_emp):\n",
    "    lis = []\n",
    "    y = df_emp\n",
    "    df_emp = df_emp[df_emp['employee_id']%2!=0]\n",
    "    print(df_emp.shape[0])\n",
    "    for i in df_emp.index:\n",
    "        if (df_emp['name'][i][0].upper()!='M'):\n",
    "            lis.append(df_emp['name'][i])\n",
    "        else:\n",
    "            continue\n",
    "    x = df_emp[df_emp['name'].isin(lis)]\n",
    "    z = y[~y['name'].isin(lis)]\n",
    "    x['Bonus'] = x['salary']\n",
    "    df1 = x[['employee_id','Bonus']]\n",
    "    z['Bonus'] = 0 \n",
    "    df2 = z[['employee_id','Bonus']]\n",
    "    final_df = pd.concat([df1,df2],keys=['employee_id', 'employee_id'],ignore_index  = True)\n",
    "    return final_df.sort_values(by ='employee_id',ascending = True)"
   ]
  },
  {
   "cell_type": "code",
   "execution_count": 69,
   "id": "35f30275",
   "metadata": {},
   "outputs": [
    {
     "name": "stdout",
     "output_type": "stream",
     "text": [
      "3\n"
     ]
    },
    {
     "name": "stderr",
     "output_type": "stream",
     "text": [
      "C:\\Users\\kamle\\AppData\\Local\\Temp/ipykernel_17116/4136135337.py:13: SettingWithCopyWarning: \n",
      "A value is trying to be set on a copy of a slice from a DataFrame.\n",
      "Try using .loc[row_indexer,col_indexer] = value instead\n",
      "\n",
      "See the caveats in the documentation: https://pandas.pydata.org/pandas-docs/stable/user_guide/indexing.html#returning-a-view-versus-a-copy\n",
      "  x['Bonus'] = x['salary']\n",
      "C:\\Users\\kamle\\AppData\\Local\\Temp/ipykernel_17116/4136135337.py:15: SettingWithCopyWarning: \n",
      "A value is trying to be set on a copy of a slice from a DataFrame.\n",
      "Try using .loc[row_indexer,col_indexer] = value instead\n",
      "\n",
      "See the caveats in the documentation: https://pandas.pydata.org/pandas-docs/stable/user_guide/indexing.html#returning-a-view-versus-a-copy\n",
      "  z['Bonus'] = 0\n"
     ]
    },
    {
     "data": {
      "text/html": [
       "<div>\n",
       "<style scoped>\n",
       "    .dataframe tbody tr th:only-of-type {\n",
       "        vertical-align: middle;\n",
       "    }\n",
       "\n",
       "    .dataframe tbody tr th {\n",
       "        vertical-align: top;\n",
       "    }\n",
       "\n",
       "    .dataframe thead th {\n",
       "        text-align: right;\n",
       "    }\n",
       "</style>\n",
       "<table border=\"1\" class=\"dataframe\">\n",
       "  <thead>\n",
       "    <tr style=\"text-align: right;\">\n",
       "      <th></th>\n",
       "      <th>employee_id</th>\n",
       "      <th>Bonus</th>\n",
       "    </tr>\n",
       "  </thead>\n",
       "  <tbody>\n",
       "    <tr>\n",
       "      <th>2</th>\n",
       "      <td>2</td>\n",
       "      <td>0</td>\n",
       "    </tr>\n",
       "    <tr>\n",
       "      <th>3</th>\n",
       "      <td>3</td>\n",
       "      <td>0</td>\n",
       "    </tr>\n",
       "    <tr>\n",
       "      <th>0</th>\n",
       "      <td>7</td>\n",
       "      <td>7400</td>\n",
       "    </tr>\n",
       "    <tr>\n",
       "      <th>4</th>\n",
       "      <td>8</td>\n",
       "      <td>0</td>\n",
       "    </tr>\n",
       "    <tr>\n",
       "      <th>1</th>\n",
       "      <td>9</td>\n",
       "      <td>7700</td>\n",
       "    </tr>\n",
       "  </tbody>\n",
       "</table>\n",
       "</div>"
      ],
      "text/plain": [
       "   employee_id  Bonus\n",
       "2            2      0\n",
       "3            3      0\n",
       "0            7   7400\n",
       "4            8      0\n",
       "1            9   7700"
      ]
     },
     "execution_count": 69,
     "metadata": {},
     "output_type": "execute_result"
    }
   ],
   "source": [
    "s = fun(df_emp)\n",
    "s"
   ]
  },
  {
   "cell_type": "code",
   "execution_count": 110,
   "id": "eec234b4",
   "metadata": {},
   "outputs": [
    {
     "name": "stdout",
     "output_type": "stream",
     "text": [
      "1\n",
      "2\n",
      "4\n"
     ]
    }
   ],
   "source": [
    "df_emp = df_emp[df_emp['employee_id']%2!=0]\n",
    "for i in df_emp.index:\n",
    "    print(i)"
   ]
  },
  {
   "cell_type": "code",
   "execution_count": 94,
   "id": "53b9d9dc",
   "metadata": {},
   "outputs": [
    {
     "data": {
      "text/plain": [
       "1    michael\n",
       "2    addilyn\n",
       "4     kannon\n",
       "Name: name, dtype: object"
      ]
     },
     "execution_count": 94,
     "metadata": {},
     "output_type": "execute_result"
    }
   ],
   "source": [
    "df_emp['name']"
   ]
  },
  {
   "cell_type": "code",
   "execution_count": 71,
   "id": "597066bc",
   "metadata": {},
   "outputs": [
    {
     "data": {
      "text/html": [
       "<div>\n",
       "<style scoped>\n",
       "    .dataframe tbody tr th:only-of-type {\n",
       "        vertical-align: middle;\n",
       "    }\n",
       "\n",
       "    .dataframe tbody tr th {\n",
       "        vertical-align: top;\n",
       "    }\n",
       "\n",
       "    .dataframe thead th {\n",
       "        text-align: right;\n",
       "    }\n",
       "</style>\n",
       "<table border=\"1\" class=\"dataframe\">\n",
       "  <thead>\n",
       "    <tr style=\"text-align: right;\">\n",
       "      <th></th>\n",
       "      <th>employee_id</th>\n",
       "      <th>name</th>\n",
       "      <th>salary</th>\n",
       "    </tr>\n",
       "  </thead>\n",
       "  <tbody>\n",
       "    <tr>\n",
       "      <th>0</th>\n",
       "      <td>2</td>\n",
       "      <td>meir</td>\n",
       "      <td>3000</td>\n",
       "    </tr>\n",
       "    <tr>\n",
       "      <th>1</th>\n",
       "      <td>3</td>\n",
       "      <td>michael</td>\n",
       "      <td>3800</td>\n",
       "    </tr>\n",
       "    <tr>\n",
       "      <th>2</th>\n",
       "      <td>7</td>\n",
       "      <td>addilyn</td>\n",
       "      <td>7400</td>\n",
       "    </tr>\n",
       "    <tr>\n",
       "      <th>3</th>\n",
       "      <td>8</td>\n",
       "      <td>juan</td>\n",
       "      <td>6100</td>\n",
       "    </tr>\n",
       "    <tr>\n",
       "      <th>4</th>\n",
       "      <td>9</td>\n",
       "      <td>kannon</td>\n",
       "      <td>7700</td>\n",
       "    </tr>\n",
       "  </tbody>\n",
       "</table>\n",
       "</div>"
      ],
      "text/plain": [
       "   employee_id     name  salary\n",
       "0            2     meir    3000\n",
       "1            3  michael    3800\n",
       "2            7  addilyn    7400\n",
       "3            8     juan    6100\n",
       "4            9   kannon    7700"
      ]
     },
     "execution_count": 71,
     "metadata": {},
     "output_type": "execute_result"
    }
   ],
   "source": [
    "df_emp"
   ]
  },
  {
   "cell_type": "code",
   "execution_count": 69,
   "id": "8f9e2cb3",
   "metadata": {},
   "outputs": [
    {
     "data": {
      "text/plain": [
       "0       meir\n",
       "1    michael\n",
       "2    addilyn\n",
       "3       juan\n",
       "4     kannon\n",
       "Name: name, dtype: object"
      ]
     },
     "execution_count": 69,
     "metadata": {},
     "output_type": "execute_result"
    }
   ],
   "source": [
    "df_emp['name']"
   ]
  },
  {
   "cell_type": "code",
   "execution_count": 30,
   "id": "2a62e570",
   "metadata": {},
   "outputs": [
    {
     "name": "stdout",
     "output_type": "stream",
     "text": [
      "Index: 0, Value: m\n",
      "Index: 1, Value: m\n",
      "Index: 2, Value: a\n",
      "Index: 3, Value: j\n",
      "Index: 4, Value: k\n"
     ]
    }
   ],
   "source": [
    "# Iterating through the Series with iteritems()\n",
    "name = df_emp['name']\n",
    "for index, value in name.iteritems():\n",
    "    print(f\"Index: {index}, Value: {value[0]}\")"
   ]
  },
  {
   "cell_type": "code",
   "execution_count": null,
   "id": "ab9d330e",
   "metadata": {},
   "outputs": [],
   "source": []
  },
  {
   "cell_type": "code",
   "execution_count": null,
   "id": "5495b21d",
   "metadata": {},
   "outputs": [],
   "source": []
  },
  {
   "cell_type": "code",
   "execution_count": null,
   "id": "d49bd91d",
   "metadata": {},
   "outputs": [],
   "source": []
  },
  {
   "cell_type": "code",
   "execution_count": 16,
   "id": "f23933e2",
   "metadata": {},
   "outputs": [],
   "source": [
    "def fun(lis):\n",
    "    x = lis\n",
    "    y = []\n",
    "    min_ = min(x)\n",
    "    max_ = max(x)\n",
    "    for i in range(len(x)-1):\n",
    "        if min_+1 not in x:\n",
    "            y.append(min_+1)\n",
    "    return y"
   ]
  },
  {
   "cell_type": "code",
   "execution_count": 17,
   "id": "1af5570d",
   "metadata": {},
   "outputs": [],
   "source": [
    "A=[6,10,13,17,23]\n",
    "y = fun(A)"
   ]
  },
  {
   "cell_type": "code",
   "execution_count": 18,
   "id": "4c644891",
   "metadata": {},
   "outputs": [
    {
     "data": {
      "text/plain": [
       "[7, 7, 7, 7]"
      ]
     },
     "execution_count": 18,
     "metadata": {},
     "output_type": "execute_result"
    }
   ],
   "source": [
    "y"
   ]
  },
  {
   "cell_type": "code",
   "execution_count": 32,
   "id": "8add02c4",
   "metadata": {},
   "outputs": [],
   "source": [
    "def fun(a):\n",
    "    latest_dup=a[0]\n",
    "    for i in range(0,len(a)-1):\n",
    "        for j in range(len(a)-1,0):\n",
    "            if a [i] == a[j]:\n",
    "                latest_dup = a[i]\n",
    "            else:\n",
    "                break\n",
    "    return latest_dup"
   ]
  },
  {
   "cell_type": "code",
   "execution_count": 33,
   "id": "4af34ea3",
   "metadata": {},
   "outputs": [
    {
     "data": {
      "text/plain": [
       "1"
      ]
     },
     "execution_count": 33,
     "metadata": {},
     "output_type": "execute_result"
    }
   ],
   "source": [
    "a = [1,2,3,4,5,4,1,3,6]\n",
    "latest_dup = fun(a)\n",
    "latest_dup"
   ]
  },
  {
   "cell_type": "code",
   "execution_count": 55,
   "id": "23c01723",
   "metadata": {},
   "outputs": [],
   "source": [
    "def fun(lis):\n",
    "    min_ = min(A)\n",
    "    max_ = max(A)\n",
    "    lis = [i for i in range(min_,max_)]\n",
    "    for i in lis:\n",
    "        if i in A:\n",
    "            lis.remove(i)\n",
    "    return lis"
   ]
  },
  {
   "cell_type": "code",
   "execution_count": 56,
   "id": "d24c0959",
   "metadata": {},
   "outputs": [
    {
     "data": {
      "text/plain": [
       "[7, 8, 9, 11, 12, 14, 15, 16, 18, 19, 20, 21, 22]"
      ]
     },
     "execution_count": 56,
     "metadata": {},
     "output_type": "execute_result"
    }
   ],
   "source": [
    "A=[6,10,13,17,23]\n",
    "lis_ = fun(A)\n",
    "lis_"
   ]
  },
  {
   "cell_type": "code",
   "execution_count": 40,
   "id": "70a79256",
   "metadata": {},
   "outputs": [
    {
     "data": {
      "text/plain": [
       "12"
      ]
     },
     "execution_count": 40,
     "metadata": {},
     "output_type": "execute_result"
    }
   ],
   "source": [
    "lis.pop(6)"
   ]
  },
  {
   "cell_type": "code",
   "execution_count": 52,
   "id": "31a7f223",
   "metadata": {},
   "outputs": [
    {
     "data": {
      "text/plain": [
       "7"
      ]
     },
     "execution_count": 52,
     "metadata": {},
     "output_type": "execute_result"
    }
   ],
   "source": [
    "lis = [6, 7, 8, 9, 10, 11, 13, 14, 15, 16, 17, 18, 19, 20, 21, 22]\n",
    "lis.pop(1)\n"
   ]
  },
  {
   "cell_type": "code",
   "execution_count": 1,
   "id": "56284fc2",
   "metadata": {},
   "outputs": [],
   "source": [
    "import pandas as pd\n",
    "df = pd.DataFrame({ 'product_id': [0, 1], 'store1': [95, 70], 'store2': [100, 80], 'store3': [105, 85] })"
   ]
  },
  {
   "cell_type": "code",
   "execution_count": 2,
   "id": "4c47b398",
   "metadata": {},
   "outputs": [
    {
     "data": {
      "text/html": [
       "<div>\n",
       "<style scoped>\n",
       "    .dataframe tbody tr th:only-of-type {\n",
       "        vertical-align: middle;\n",
       "    }\n",
       "\n",
       "    .dataframe tbody tr th {\n",
       "        vertical-align: top;\n",
       "    }\n",
       "\n",
       "    .dataframe thead th {\n",
       "        text-align: right;\n",
       "    }\n",
       "</style>\n",
       "<table border=\"1\" class=\"dataframe\">\n",
       "  <thead>\n",
       "    <tr style=\"text-align: right;\">\n",
       "      <th></th>\n",
       "      <th>product_id</th>\n",
       "      <th>store1</th>\n",
       "      <th>store2</th>\n",
       "      <th>store3</th>\n",
       "    </tr>\n",
       "  </thead>\n",
       "  <tbody>\n",
       "    <tr>\n",
       "      <th>0</th>\n",
       "      <td>0</td>\n",
       "      <td>95</td>\n",
       "      <td>100</td>\n",
       "      <td>105</td>\n",
       "    </tr>\n",
       "    <tr>\n",
       "      <th>1</th>\n",
       "      <td>1</td>\n",
       "      <td>70</td>\n",
       "      <td>80</td>\n",
       "      <td>85</td>\n",
       "    </tr>\n",
       "  </tbody>\n",
       "</table>\n",
       "</div>"
      ],
      "text/plain": [
       "   product_id  store1  store2  store3\n",
       "0           0      95     100     105\n",
       "1           1      70      80      85"
      ]
     },
     "execution_count": 2,
     "metadata": {},
     "output_type": "execute_result"
    }
   ],
   "source": [
    "df"
   ]
  },
  {
   "cell_type": "code",
   "execution_count": 4,
   "id": "07b84acb",
   "metadata": {},
   "outputs": [],
   "source": [
    "product_ids = [] \n",
    "stores = [] \n",
    "values = []"
   ]
  },
  {
   "cell_type": "code",
   "execution_count": 12,
   "id": "8235203f",
   "metadata": {},
   "outputs": [
    {
     "name": "stdout",
     "output_type": "stream",
     "text": [
      "<class 'pandas.core.series.Series'>\n",
      "<class 'pandas.core.series.Series'>\n"
     ]
    }
   ],
   "source": [
    "for idx, row in df.iterrows():\n",
    "    print(type(row))"
   ]
  },
  {
   "cell_type": "code",
   "execution_count": 9,
   "id": "a31ada28",
   "metadata": {},
   "outputs": [
    {
     "data": {
      "text/plain": [
       "1"
      ]
     },
     "execution_count": 9,
     "metadata": {},
     "output_type": "execute_result"
    }
   ],
   "source": [
    "product_id"
   ]
  },
  {
   "cell_type": "code",
   "execution_count": 1,
   "id": "1d16e609",
   "metadata": {},
   "outputs": [],
   "source": [
    "import numpy as np\n",
    "import pandas as pd"
   ]
  },
  {
   "cell_type": "code",
   "execution_count": null,
   "id": "c59d5db9",
   "metadata": {},
   "outputs": [],
   "source": []
  }
 ],
 "metadata": {
  "kernelspec": {
   "display_name": "Python 3 (ipykernel)",
   "language": "python",
   "name": "python3"
  },
  "language_info": {
   "codemirror_mode": {
    "name": "ipython",
    "version": 3
   },
   "file_extension": ".py",
   "mimetype": "text/x-python",
   "name": "python",
   "nbconvert_exporter": "python",
   "pygments_lexer": "ipython3",
   "version": "3.9.7"
  }
 },
 "nbformat": 4,
 "nbformat_minor": 5
}
